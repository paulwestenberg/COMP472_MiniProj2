{
 "cells": [
  {
   "cell_type": "code",
   "execution_count": 6,
   "id": "a2effd27",
   "metadata": {},
   "outputs": [
    {
     "name": "stdout",
     "output_type": "stream",
     "text": [
      "Mini Project 2\n"
     ]
    }
   ],
   "source": [
    "print(\"Mini Project 2\")\n",
    "# put imports here\n",
    "from array import *"
   ]
  },
  {
   "cell_type": "code",
   "execution_count": 7,
   "id": "dc4399ac",
   "metadata": {},
   "outputs": [],
   "source": [
    "def printTable(puzzle):\n",
    "    table = \"\"\n",
    "    for x in range(6):\n",
    "        for y in range(6):\n",
    "            #print (puzzle[x][y])\n",
    "            table += puzzle[x][y] + \" \"\n",
    "        table += \"\\n\"\n",
    "    return table"
   ]
  },
  {
   "cell_type": "code",
   "execution_count": 8,
   "id": "6b0ac8f6",
   "metadata": {},
   "outputs": [],
   "source": [
    "def printFuelAvailable(fuel):\n",
    "    CFAstring = \"Car fuel available: \"\n",
    "    for x in range(len(fuel)):\n",
    "        if x%2==0:\n",
    "            CFAstring += fuel[x]+\":\"\n",
    "        elif x%2==1:\n",
    "            CFAstring += fuel[x]\n",
    "            if x != len(fuel)-1:\n",
    "                CFAstring += \", \"\n",
    "    return CFAstring"
   ]
  },
  {
   "cell_type": "code",
   "execution_count": 14,
   "id": "f8dca003",
   "metadata": {},
   "outputs": [
    {
     "ename": "IndentationError",
     "evalue": "expected an indented block after 'if' statement on line 34 (2832474849.py, line 36)",
     "output_type": "error",
     "traceback": [
      "\u001b[0;36m  Cell \u001b[0;32mIn [14], line 36\u001b[0;36m\u001b[0m\n\u001b[0;31m    print(\"Puzzle in our format:\")\u001b[0m\n\u001b[0m    ^\u001b[0m\n\u001b[0;31mIndentationError\u001b[0m\u001b[0;31m:\u001b[0m expected an indented block after 'if' statement on line 34\n"
     ]
    }
   ],
   "source": [
    "# reading the input file:\n",
    "f = open(\"input.txt\", \"r\")\n",
    "filecontent = f.read()\n",
    "print(\"File Content: \")\n",
    "print(filecontent)\n",
    "chunks = filecontent.split('\\n')\n",
    "print(\"\")\n",
    "\n",
    "puzzlecount = 0\n",
    "for chunk in chunks:\n",
    "    # if condition to ignore if first char is #\n",
    "    # as it is a comment in the input file\n",
    "    if chunk[0] != '#':\n",
    "        puzzle2d = []\n",
    "        puzzlecount = puzzlecount+1\n",
    "        print(\"Puzzle #\" + str(puzzlecount))\n",
    "        # creating 2d array for particular puzzle\n",
    "        counter = 0\n",
    "        row = 0\n",
    "        rowcontent = []\n",
    "        fuelavailable = []\n",
    "        for c in chunk:\n",
    "            if counter<36:\n",
    "                counter = counter+1\n",
    "                rowcontent.append(c)\n",
    "                if counter%6==0:\n",
    "                    row = row+1\n",
    "                    puzzle2d.insert(row,rowcontent)\n",
    "                    rowcontent = []\n",
    "            else:\n",
    "                counter = counter+1\n",
    "                if c!=' ': \n",
    "                    fuelavailable.append(c)\n",
    "        # if fuelavailable == []:\n",
    "            # then all fuel is 100\n",
    "\n",
    "        print(\"Puzzle in our format:\")\n",
    "        print(puzzle2d)\n",
    "        print(\"\")\n",
    "        #put in solution file\n",
    "        print(\"Puzzle in table format:\")\n",
    "        print(printTable(puzzle2d))\n",
    "        print(\"Fuel available: \")\n",
    "        print(fuelavailable)\n",
    "        print(\"\")\n",
    "        print(printFuelAvailable(fuelavailable))\n",
    "        print(\"\")"
   ]
  },
  {
   "cell_type": "code",
   "execution_count": 3,
   "id": "38bc7b51",
   "metadata": {},
   "outputs": [],
   "source": []
  }
 ],
 "metadata": {
  "kernelspec": {
   "display_name": "Python 3 (ipykernel)",
   "language": "python",
   "name": "python3"
  },
  "language_info": {
   "codemirror_mode": {
    "name": "ipython",
    "version": 3
   },
   "file_extension": ".py",
   "mimetype": "text/x-python",
   "name": "python",
   "nbconvert_exporter": "python",
   "pygments_lexer": "ipython3",
   "version": "3.10.7"
  }
 },
 "nbformat": 4,
 "nbformat_minor": 5
}
