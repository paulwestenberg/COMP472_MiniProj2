{
 "cells": [
  {
   "cell_type": "code",
   "execution_count": 16,
   "id": "a2effd27",
   "metadata": {},
   "outputs": [
    {
     "name": "stdout",
     "output_type": "stream",
     "text": [
      "Mini Project 2\n"
     ]
    }
   ],
   "source": [
    "print(\"Mini Project 2\")\n",
    "# put imports here\n",
    "from array import *"
   ]
  },
  {
   "cell_type": "code",
   "execution_count": 17,
   "id": "4ba7de81",
   "metadata": {},
   "outputs": [],
   "source": [
    "def printTable(puzzle):\n",
    "    table = \"\"\n",
    "    for x in range(6):\n",
    "        for y in range(6):\n",
    "            #print (puzzle[x][y])\n",
    "            table += puzzle[x][y] + \" \"\n",
    "        table += \"\\n\"\n",
    "    return table"
   ]
  },
  {
   "cell_type": "code",
   "execution_count": 18,
   "id": "a89b5908",
   "metadata": {},
   "outputs": [],
   "source": [
    "def printFuelAvailable(fuel):\n",
    "    CFAstring = \"Car fuel available: \"\n",
    "    for x in range(len(fuel)):\n",
    "        if x%2==0:\n",
    "            CFAstring += fuel[x]+\":\"\n",
    "        elif x%2==1:\n",
    "            CFAstring += fuel[x]\n",
    "            if x != len(fuel)-1:\n",
    "                CFAstring += \", \"\n",
    "    return CFAstring"
   ]
  },
  {
   "cell_type": "code",
   "execution_count": 19,
   "id": "f8dca003",
   "metadata": {},
   "outputs": [
    {
     "name": "stdout",
     "output_type": "stream",
     "text": [
      "File Content: \n",
      "# this is an input file\n",
      "IIB...C.BHHHC.AAD.....D.EEGGGF.....F\n",
      "YYY...C.BHHHC.AAD.....D.EEGGGF.....F H3 E2 G8\n",
      "\n",
      "Puzzle #1\n",
      "Puzzle in our format:\n",
      "[['I', 'I', 'B', '.', '.', '.'], ['C', '.', 'B', 'H', 'H', 'H'], ['C', '.', 'A', 'A', 'D', '.'], ['.', '.', '.', '.', 'D', '.'], ['E', 'E', 'G', 'G', 'G', 'F'], ['.', '.', '.', '.', '.', 'F']]\n",
      "\n",
      "Puzzle in table format:\n",
      "I I B . . . \n",
      "C . B H H H \n",
      "C . A A D . \n",
      ". . . . D . \n",
      "E E G G G F \n",
      ". . . . . F \n",
      "\n",
      "Fuel available: \n",
      "[]\n",
      "\n",
      "Car fuel available: \n",
      "\n",
      "Puzzle #2\n",
      "Puzzle in our format:\n",
      "[['Y', 'Y', 'Y', '.', '.', '.'], ['C', '.', 'B', 'H', 'H', 'H'], ['C', '.', 'A', 'A', 'D', '.'], ['.', '.', '.', '.', 'D', '.'], ['E', 'E', 'G', 'G', 'G', 'F'], ['.', '.', '.', '.', '.', 'F']]\n",
      "\n",
      "Puzzle in table format:\n",
      "Y Y Y . . . \n",
      "C . B H H H \n",
      "C . A A D . \n",
      ". . . . D . \n",
      "E E G G G F \n",
      ". . . . . F \n",
      "\n",
      "Fuel available: \n",
      "['H', '3', 'E', '2', 'G', '8']\n",
      "\n",
      "Car fuel available: H:3, E:2, G:8\n",
      "\n"
     ]
    }
   ],
   "source": [
    "# reading the input file:\n",
    "f = open(\"input.txt\", \"r\")\n",
    "filecontent = f.read()\n",
    "print(\"File Content: \")\n",
    "print(filecontent)\n",
    "chunks = filecontent.split('\\n')\n",
    "print(\"\")\n",
    "\n",
    "puzzlecount = 0\n",
    "for chunk in chunks:\n",
    "    # if condition to ignore if first char is #\n",
    "    # as it is a comment in the input file\n",
    "    if chunk[0] != '#':\n",
    "        puzzle2d = []\n",
    "        puzzlecount = puzzlecount+1\n",
    "        print(\"Puzzle #\" + str(puzzlecount))\n",
    "        # creating 2d array for particular puzzle\n",
    "        counter = 0\n",
    "        row = 0\n",
    "        rowcontent = []\n",
    "        fuelavailable = []\n",
    "        for c in chunk:\n",
    "            if counter<36:\n",
    "                counter = counter+1\n",
    "                rowcontent.append(c)\n",
    "                if counter%6==0:\n",
    "                    row = row+1\n",
    "                    puzzle2d.insert(row,rowcontent)\n",
    "                    rowcontent = []\n",
    "            else:\n",
    "                counter = counter+1\n",
    "                if c!=' ': \n",
    "                    fuelavailable.append(c)\n",
    "        # if fuelavailable == []:\n",
    "            # then all fuel is 100\n",
    "\n",
    "        print(\"Puzzle in our format:\")\n",
    "        print(puzzle2d)\n",
    "        print(\"\")\n",
    "        #put in solution file\n",
    "        print(\"Puzzle in table format:\")\n",
    "        print(printTable(puzzle2d))\n",
    "        print(\"Fuel available: \")\n",
    "        print(fuelavailable)\n",
    "        print(\"\")\n",
    "        print(printFuelAvailable(fuelavailable))\n",
    "        print(\"\")"
   ]
  },
  {
   "cell_type": "code",
   "execution_count": 3,
   "id": "38bc7b51",
   "metadata": {},
   "outputs": [],
   "source": []
  }
 ],
 "metadata": {
  "kernelspec": {
   "display_name": "Python 3 (ipykernel)",
   "language": "python",
   "name": "python3"
  },
  "language_info": {
   "codemirror_mode": {
    "name": "ipython",
    "version": 3
   },
   "file_extension": ".py",
   "mimetype": "text/x-python",
   "name": "python",
   "nbconvert_exporter": "python",
   "pygments_lexer": "ipython3",
   "version": "3.10.7"
  }
 },
 "nbformat": 4,
 "nbformat_minor": 5
}
